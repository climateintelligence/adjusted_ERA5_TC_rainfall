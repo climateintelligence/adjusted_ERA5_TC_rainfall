{
 "cells": [
  {
   "cell_type": "code",
   "execution_count": 2,
   "id": "780505e2",
   "metadata": {},
   "outputs": [
    {
     "name": "stderr",
     "output_type": "stream",
     "text": [
      "100%|██████████| 29/29 [00:00<00:00, 11509.73it/s]\n"
     ]
    }
   ],
   "source": [
    "import numpy as np\n",
    "import pandas as pd\n",
    "import xarray as xr\n",
    "from tqdm import tqdm\n",
    "import datetime\n",
    "\n",
    "def add_hours_to_iso_time(iso_time):\n",
    "    \"\"\"Adds 3*steps hours to the given iso_time.\n",
    "\n",
    "    Arguments:\n",
    "        iso_time [string]: The ISO time string to be extended.\n",
    "        steps [int]: The number of steps to extend the iso_time by (each step is 3h).\n",
    "\n",
    "    Returns:\n",
    "        [int]: The corresponding id.\n",
    "    \"\"\"\n",
    "    day = int(iso_time.split('/')[0])\n",
    "    month = int(iso_time.split('/')[1])\n",
    "    year = int(iso_time.split('/')[2][:4])\n",
    "    hour = int(iso_time[-5:-3])\n",
    "    date = datetime.datetime(year, month, day, hour)\n",
    "    extended_date = date + datetime.timedelta(hours=-1, minutes=-30)\n",
    "\n",
    "    extended_iso_time = f'{extended_date.day}/{extended_date.month}/{extended_date.year} {extended_date.hour:02d}:{extended_date.minute}'\n",
    "    return extended_iso_time\n",
    "\n",
    "ibtracs = pd.read_csv('data/IBTrACS/ibtracs.nangka.csv')\n",
    "ibtracs.head()\n",
    "ibtracs_interp = []\n",
    "ibtracs_interp.append(ibtracs.iloc[0])\n",
    "\n",
    "previous_lat = ibtracs.LAT[0]\n",
    "previous_lon = ibtracs.LON[0]\n",
    "\n",
    "for idx, row in tqdm(ibtracs.iloc[1:].iterrows(), total=ibtracs.shape[0]-1):\n",
    "    middle_row = row.copy()\n",
    "    current_lat = row.LAT\n",
    "    current_lon = row.LON\n",
    "    current_iso = row.ISO_TIME\n",
    "    middle_row['LAT'] = (current_lat + previous_lat) / 2\n",
    "    middle_row['LON'] = (current_lon + previous_lon) / 2\n",
    "    middle_row['ISO_TIME'] = add_hours_to_iso_time(current_iso)\n",
    "    ibtracs_interp.append(middle_row)\n",
    "    previous_lat = current_lat\n",
    "    previous_lon = current_lon"
   ]
  },
  {
   "cell_type": "code",
   "execution_count": 3,
   "id": "74de36aa",
   "metadata": {},
   "outputs": [],
   "source": [
    "new_df = pd.DataFrame(ibtracs_interp, columns = ibtracs.columns.to_list())\n",
    "new_df.to_csv(f'data/IBTrACS/ibtracs.nangka_interp.csv', index=False)"
   ]
  },
  {
   "cell_type": "code",
   "execution_count": null,
   "id": "f8a1f790",
   "metadata": {},
   "outputs": [],
   "source": []
  }
 ],
 "metadata": {
  "kernelspec": {
   "display_name": "Python 3 (ipykernel)",
   "language": "python",
   "name": "python3"
  },
  "language_info": {
   "codemirror_mode": {
    "name": "ipython",
    "version": 3
   },
   "file_extension": ".py",
   "mimetype": "text/x-python",
   "name": "python",
   "nbconvert_exporter": "python",
   "pygments_lexer": "ipython3",
   "version": "3.10.13"
  }
 },
 "nbformat": 4,
 "nbformat_minor": 5
}
