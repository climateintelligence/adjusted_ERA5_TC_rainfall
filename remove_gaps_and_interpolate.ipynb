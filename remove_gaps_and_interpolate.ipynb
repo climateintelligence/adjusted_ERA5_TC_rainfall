{
 "cells": [
  {
   "cell_type": "code",
   "execution_count": 1,
   "id": "e3d27a42",
   "metadata": {},
   "outputs": [],
   "source": [
    "import os\n",
    "import xarray as xr\n",
    "import pandas as pd\n",
    "import numpy as np\n",
    "from tqdm import tqdm\n",
    "from scipy.interpolate import UnivariateSpline\n",
    "\n",
    "MODE = 'test'\n",
    "\n",
    "df = pd.read_csv(f'data/{MODE}_2001_over34/ibtracs_2001_{MODE}_all.csv')\n",
    "\n",
    "# df_clean = pd.DataFrame(columns=df.columns.to_list())\n",
    "ids_to_eliminate = []"
   ]
  },
  {
   "cell_type": "code",
   "execution_count": 2,
   "id": "1e7869e0",
   "metadata": {},
   "outputs": [],
   "source": [
    "def find_large_gaps(tc_df):\n",
    "    # find ids of all the rows with actual values\n",
    "    nonzero_ids = tc_df.loc[tc_df['WMO_WIND'] != 0].index\n",
    "    ids_to_eliminate = list(np.arange(tc_df.index[0], nonzero_ids[0]))\n",
    "    \n",
    "    # for every row with an actual value, see if the gap between it and the next non-zero\n",
    "    # row is greater than 4 rows (i.e., there's more than three 0-valued rows in between them);\n",
    "    # if so, drop all rows belonging to that gap\n",
    "    for i, nonzero_id in enumerate(nonzero_ids):\n",
    "        if nonzero_id == nonzero_ids[-1]: # make sure you stop one row short to avoid indexing errors\n",
    "            pass\n",
    "        elif (nonzero_ids[i+1] - nonzero_id) > 4:\n",
    "            ids_to_eliminate.extend(range(nonzero_id+1, nonzero_ids[i+1]))\n",
    "    return ids_to_eliminate"
   ]
  },
  {
   "cell_type": "code",
   "execution_count": 3,
   "id": "d53d7d01",
   "metadata": {},
   "outputs": [],
   "source": [
    "ids_to_eliminate.extend(find_large_gaps(df))\n",
    "df_clean = df.drop(ids_to_eliminate)"
   ]
  },
  {
   "cell_type": "code",
   "execution_count": 4,
   "id": "8bf9d95a",
   "metadata": {},
   "outputs": [],
   "source": [
    "def interpolate_missing_values(cyclone_df):\n",
    "    # Use pchip interpolation to fill missing values\n",
    "    cyclone_df['WMO_WIND'] = cyclone_df['WMO_WIND'].replace(0, np.nan).interpolate(method='pchip')\n",
    "\n",
    "    # If there are still missing values at the start or end of the series, fill them with bfill or ffill\n",
    "    cyclone_df['WMO_WIND'] = cyclone_df['WMO_WIND'].bfill().ffill()\n",
    "    \n",
    "    # Convert to int\n",
    "    cyclone_df['WMO_WIND'] = cyclone_df['WMO_WIND'].round().astype(int)\n",
    "    return cyclone_df"
   ]
  },
  {
   "cell_type": "code",
   "execution_count": 5,
   "id": "ccf77dd9",
   "metadata": {},
   "outputs": [],
   "source": [
    "df_clean_interp = df_clean.groupby('SID').apply(interpolate_missing_values).reset_index(drop=True)"
   ]
  },
  {
   "cell_type": "code",
   "execution_count": 6,
   "id": "e921641e",
   "metadata": {},
   "outputs": [],
   "source": [
    "over = df_clean_interp[df_clean_interp['WMO_WIND'] >= 34]"
   ]
  },
  {
   "cell_type": "code",
   "execution_count": 7,
   "id": "350c5cc6",
   "metadata": {},
   "outputs": [],
   "source": [
    "over.to_csv(f'data/{MODE}_2001_over34/ibtracs_2001_{MODE}_over34.csv')"
   ]
  },
  {
   "cell_type": "code",
   "execution_count": null,
   "id": "ed6cc925",
   "metadata": {},
   "outputs": [],
   "source": []
  }
 ],
 "metadata": {
  "kernelspec": {
   "display_name": "Python 3 (ipykernel)",
   "language": "python",
   "name": "python3"
  },
  "language_info": {
   "codemirror_mode": {
    "name": "ipython",
    "version": 3
   },
   "file_extension": ".py",
   "mimetype": "text/x-python",
   "name": "python",
   "nbconvert_exporter": "python",
   "pygments_lexer": "ipython3",
   "version": "3.9.13"
  }
 },
 "nbformat": 4,
 "nbformat_minor": 5
}
