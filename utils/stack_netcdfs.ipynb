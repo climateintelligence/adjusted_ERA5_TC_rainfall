{
 "cells": [
  {
   "cell_type": "code",
   "execution_count": 1,
   "id": "5dfebdfd",
   "metadata": {},
   "outputs": [],
   "source": [
    "import xarray as xr\n",
    "import numpy as np\n",
    "import pandas as pd\n",
    "import glob\n",
    "from tqdm import tqdm"
   ]
  },
  {
   "cell_type": "markdown",
   "id": "e8d42c4d",
   "metadata": {},
   "source": [
    "### Check train files"
   ]
  },
  {
   "cell_type": "code",
   "execution_count": 1,
   "id": "c6a54d74",
   "metadata": {},
   "outputs": [
    {
     "name": "stderr",
     "output_type": "stream",
     "text": [
      "100%|██████████| 80871/80871 [1:01:20<00:00, 21.97it/s]\n"
     ]
    }
   ],
   "source": [
    "mode = 'train'\n",
    "filenames = glob.glob(f'../data/{mode}_2001/ERA5_tp/*.nc')\n",
    "ids = [filename[-9:-3] for filename in filenames]\n",
    "\n",
    "for idx in tqdm(ids, total=len(ids)):\n",
    "    with xr.open_dataset(f'../data/{mode}_2001/ERA5_rh/ERA5_rh_cropped_{idx}.nc') as rh_ds:\n",
    "        rh_lons = rh_ds.longitude\n",
    "        rh_time = rh_ds.time\n",
    "    with xr.open_dataset(f'../data/{mode}_2001/ERA5_t/ERA5_t_cropped_{idx}.nc') as t_ds:\n",
    "        t_lons = t_ds.longitude\n",
    "        t_time = t_ds.time\n",
    "    with xr.open_dataset(f'../data/{mode}_2001/ERA5_tcw/ERA5_tcw_cropped_{idx}.nc') as tcw_ds:\n",
    "        tcw_lons = tcw_ds.longitude\n",
    "        tcw_time = tcw_ds.time\n",
    "    with xr.open_dataset(f'../data/{mode}_2001/ERA5_tp/ERA5_tp_cropped_{idx}.nc')*1000 as tp_ds:\n",
    "        tp_lons = tp_ds.longitude\n",
    "        tp_time = tp_ds.time\n",
    "    with xr.open_dataset(f'../data/{mode}_2001/MSWEP_tp/MSWEP_tp_cropped_{idx}.nc') as mswep_ds:\n",
    "        pass\n",
    "    \n",
    "    assert (tp_lons == rh_lons).all(), 'Lons do not match!'\n",
    "    assert (tp_lons == t_lons).all(), 'Lons do not match!'\n",
    "    assert (tp_lons == tcw_lons).all(), 'Lons do not match!'\n",
    "    \n",
    "    assert(tp_time == rh_time), 'Time does not match!'\n",
    "    assert(tp_time == t_time), 'Time does not match!'\n",
    "    assert(tp_time == tcw_time), 'Time does not match!'"
   ]
  },
  {
   "cell_type": "markdown",
   "id": "24d5d667",
   "metadata": {},
   "source": [
    "### Check test files"
   ]
  },
  {
   "cell_type": "code",
   "execution_count": 2,
   "id": "e32dcc5e",
   "metadata": {},
   "outputs": [
    {
     "name": "stderr",
     "output_type": "stream",
     "text": [
      "100%|██████████| 23321/23321 [18:05<00:00, 21.48it/s]\n"
     ]
    }
   ],
   "source": [
    "mode = 'test'\n",
    "filenames = glob.glob(f'../data/{mode}_2001/ERA5_tp/*.nc')\n",
    "ids = [filename[-9:-3] for filename in filenames]\n",
    "\n",
    "for idx in tqdm(ids, total=len(ids)):\n",
    "    with xr.open_dataset(f'../data/{mode}_2001/ERA5_rh/ERA5_rh_cropped_{idx}.nc') as rh_ds:\n",
    "        rh_lons = rh_ds.longitude\n",
    "        rh_time = rh_ds.time\n",
    "    with xr.open_dataset(f'../data/{mode}_2001/ERA5_t/ERA5_t_cropped_{idx}.nc') as t_ds:\n",
    "        t_lons = t_ds.longitude\n",
    "        t_time = t_ds.time\n",
    "    with xr.open_dataset(f'../data/{mode}_2001/ERA5_tcw/ERA5_tcw_cropped_{idx}.nc') as tcw_ds:\n",
    "        tcw_lons = tcw_ds.longitude\n",
    "        tcw_time = tcw_ds.time\n",
    "    with xr.open_dataset(f'../data/{mode}_2001/ERA5_tp/ERA5_tp_cropped_{idx}.nc')*1000 as tp_ds:\n",
    "        tp_lons = tp_ds.longitude\n",
    "        tp_time = tp_ds.time\n",
    "    with xr.open_dataset(f'../data/{mode}_2001/MSWEP_tp/MSWEP_tp_cropped_{idx}.nc') as mswep_ds:\n",
    "        pass\n",
    "    \n",
    "    assert (tp_lons == rh_lons).all(), 'Lons do not match!'\n",
    "    assert (tp_lons == t_lons).all(), 'Lons do not match!'\n",
    "    assert (tp_lons == tcw_lons).all(), 'Lons do not match!'\n",
    "    \n",
    "    assert(tp_time == rh_time), 'Time does not match!'\n",
    "    assert(tp_time == t_time), 'Time does not match!'\n",
    "    assert(tp_time == tcw_time), 'Time does not match!'"
   ]
  },
  {
   "cell_type": "markdown",
   "id": "237f964f",
   "metadata": {},
   "source": [
    "### Merge train files"
   ]
  },
  {
   "cell_type": "code",
   "execution_count": 3,
   "id": "e3007df6",
   "metadata": {},
   "outputs": [
    {
     "name": "stderr",
     "output_type": "stream",
     "text": [
      "100%|██████████| 80871/80871 [1:15:50<00:00, 17.77it/s]\n"
     ]
    }
   ],
   "source": [
    "mode = 'train'\n",
    "filenames = glob.glob(f'../data/{mode}_2001/ERA5_tp/*.nc')\n",
    "ids = [filename[-9:-3] for filename in filenames]\n",
    "\n",
    "for idx in tqdm(ids, total=len(ids)):\n",
    "    with xr.open_dataset(f'../data/{mode}_2001/ERA5_rh/ERA5_rh_cropped_{idx}.nc') as rh_ds:\n",
    "        pass\n",
    "    with xr.open_dataset(f'../data/{mode}_2001/ERA5_t/ERA5_t_cropped_{idx}.nc') as t_ds:\n",
    "        pass\n",
    "    with xr.open_dataset(f'../data/{mode}_2001/ERA5_tcw/ERA5_tcw_cropped_{idx}.nc') as tcw_ds:\n",
    "        pass\n",
    "    with xr.open_dataset(f'../data/{mode}_2001/ERA5_tp/ERA5_tp_cropped_{idx}.nc')*1000 as tp_ds:\n",
    "        pass\n",
    "    with xr.open_dataset(f'../data/{mode}_2001/MSWEP_tp/MSWEP_tp_cropped_{idx}.nc') as mswep_ds:\n",
    "        pass\n",
    "    merged_ds = xr.merge([rh_ds, t_ds, tcw_ds, tp_ds, mswep_ds])\n",
    "#     merged_ds = xr.merge([tp_ds, mswep_ds])\n",
    "    merged_ds = merged_ds.drop_vars(['lon', 'lat'])\n",
    "    merged_ds.to_netcdf(f'../data/{mode}_2001/merged/merged_{idx}.nc')"
   ]
  },
  {
   "cell_type": "markdown",
   "id": "5393cddd",
   "metadata": {},
   "source": [
    "### Merge test files"
   ]
  },
  {
   "cell_type": "code",
   "execution_count": 2,
   "id": "965772d5",
   "metadata": {},
   "outputs": [
    {
     "name": "stderr",
     "output_type": "stream",
     "text": [
      "100%|██████████| 23321/23321 [24:34<00:00, 15.82it/s]\n"
     ]
    }
   ],
   "source": [
    "mode = 'test'\n",
    "filenames = glob.glob(f'../data/{mode}_2001/ERA5_tp/*.nc')\n",
    "ids = [filename[-9:-3] for filename in filenames]\n",
    "\n",
    "for idx in tqdm(ids, total=len(ids)):\n",
    "    with xr.open_dataset(f'../data/{mode}_2001/ERA5_rh/ERA5_rh_cropped_{idx}.nc') as rh_ds:\n",
    "        pass\n",
    "    with xr.open_dataset(f'../data/{mode}_2001/ERA5_t/ERA5_t_cropped_{idx}.nc') as t_ds:\n",
    "        pass\n",
    "    with xr.open_dataset(f'../data/{mode}_2001/ERA5_tcw/ERA5_tcw_cropped_{idx}.nc') as tcw_ds:\n",
    "        pass\n",
    "    with xr.open_dataset(f'../data/{mode}_2001/ERA5_tp/ERA5_tp_cropped_{idx}.nc')*1000 as tp_ds:\n",
    "        pass\n",
    "    with xr.open_dataset(f'../data/{mode}_2001/MSWEP_tp/MSWEP_tp_cropped_{idx}.nc') as mswep_ds:\n",
    "        pass\n",
    "    merged_ds = xr.merge([rh_ds, t_ds, tcw_ds, tp_ds, mswep_ds])\n",
    "#     merged_ds = xr.merge([tp_ds, mswep_ds])\n",
    "    merged_ds = merged_ds.drop_vars(['lon', 'lat'])\n",
    "    merged_ds.to_netcdf(f'../data/{mode}_2001/merged/merged_{idx}.nc')"
   ]
  },
  {
   "cell_type": "code",
   "execution_count": null,
   "id": "e9a0cc78",
   "metadata": {},
   "outputs": [],
   "source": []
  }
 ],
 "metadata": {
  "kernelspec": {
   "display_name": "Python 3 (ipykernel)",
   "language": "python",
   "name": "python3"
  },
  "language_info": {
   "codemirror_mode": {
    "name": "ipython",
    "version": 3
   },
   "file_extension": ".py",
   "mimetype": "text/x-python",
   "name": "python",
   "nbconvert_exporter": "python",
   "pygments_lexer": "ipython3",
   "version": "3.10.13"
  }
 },
 "nbformat": 4,
 "nbformat_minor": 5
}
