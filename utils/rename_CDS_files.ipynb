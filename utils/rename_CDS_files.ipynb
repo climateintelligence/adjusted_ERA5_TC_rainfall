{
 "cells": [
  {
   "cell_type": "code",
   "execution_count": 1,
   "id": "206f7a21",
   "metadata": {},
   "outputs": [
    {
     "name": "stderr",
     "output_type": "stream",
     "text": [
      "100%|██████████| 19/19 [00:00<00:00, 192.56it/s]\n"
     ]
    }
   ],
   "source": [
    "import os\n",
    "import glob\n",
    "import xarray as xr\n",
    "from tqdm import tqdm\n",
    "era5_path = 'E:/feb'\n",
    "path = era5_path\n",
    "filenames = glob.glob(os.path.join(path, \"*.nc\"))\n",
    "\n",
    "hours_by_month = {'01': 31*24,\n",
    "                  '02': 28*24,\n",
    "                  '03': 31*24,\n",
    "                  '04': 30*24,\n",
    "                  '05': 31*24,\n",
    "                  '06': 30*24,\n",
    "                  '07': 31*24,\n",
    "                  '08': 31*24,\n",
    "                  '09': 30*24,\n",
    "                  '10': 31*24,\n",
    "                  '11': 30*24,\n",
    "                  '12': 31*24}\n",
    "\n",
    "for filename in tqdm(filenames, total=len(filenames)):\n",
    "    with xr.open_dataset(filename) as ds:\n",
    "        time = ds.time\n",
    "        iso = str(time[0].data)\n",
    "        year = iso[:4]\n",
    "        month = iso[5:7]\n",
    "        if month == '02':\n",
    "            if int(year) % 4 == 0:\n",
    "                if len(time) != 29*24:\n",
    "                    continue\n",
    "            elif len(time) != 28*24:\n",
    "                continue\n",
    "        elif len(time) != hours_by_month[month]:\n",
    "            continue\n",
    "    try:\n",
    "        os.rename(filename, path+f'/ERA5_t_rh_{year}_{month}.nc')\n",
    "    except FileExistsError:\n",
    "        continue"
   ]
  },
  {
   "cell_type": "code",
   "execution_count": 1,
   "id": "84aad39f",
   "metadata": {},
   "outputs": [],
   "source": [
    "# check that the process has gone through smoothly\n",
    "filenames = glob.glob(os.path.join(path, \"*.nc\"))\n",
    "\n",
    "for filename in filenames:\n",
    "    date = filename[-10:-3]\n",
    "\n",
    "    with xr.open_dataset(filename) as ds:\n",
    "        time = ds.time\n",
    "        iso = str(time[0].data)\n",
    "        year = iso[:4]\n",
    "        month = iso[5:7]\n",
    "        assert date == year + '_' + month, f'{filename}'"
   ]
  },
  {
   "cell_type": "code",
   "execution_count": null,
   "id": "543da476",
   "metadata": {},
   "outputs": [],
   "source": []
  }
 ],
 "metadata": {
  "kernelspec": {
   "display_name": "Python 3 (ipykernel)",
   "language": "python",
   "name": "python3"
  },
  "language_info": {
   "codemirror_mode": {
    "name": "ipython",
    "version": 3
   },
   "file_extension": ".py",
   "mimetype": "text/x-python",
   "name": "python",
   "nbconvert_exporter": "python",
   "pygments_lexer": "ipython3",
   "version": "3.9.13"
  }
 },
 "nbformat": 4,
 "nbformat_minor": 5
}
