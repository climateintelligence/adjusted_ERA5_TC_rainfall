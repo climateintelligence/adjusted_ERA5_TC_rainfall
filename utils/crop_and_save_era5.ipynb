{
 "cells": [
  {
   "cell_type": "code",
   "execution_count": 1,
   "id": "8becb0f0",
   "metadata": {},
   "outputs": [
    {
     "name": "stderr",
     "output_type": "stream",
     "text": [
      "  0%|          | 0/5391 [00:08<?, ?it/s]\n"
     ]
    },
    {
     "ename": "TypeError",
     "evalue": "Index.get_loc() got an unexpected keyword argument 'method'",
     "output_type": "error",
     "traceback": [
      "\u001b[1;31m---------------------------------------------------------------------------\u001b[0m",
      "\u001b[1;31mTypeError\u001b[0m                                 Traceback (most recent call last)",
      "Cell \u001b[1;32mIn[1], line 57\u001b[0m\n\u001b[0;32m     55\u001b[0m     timesteps_not_found \u001b[38;5;241m+\u001b[39m\u001b[38;5;241m=\u001b[39m \u001b[38;5;241m1\u001b[39m\n\u001b[0;32m     56\u001b[0m     \u001b[38;5;28;01mcontinue\u001b[39;00m\n\u001b[1;32m---> 57\u001b[0m era5_t_interp_mswep \u001b[38;5;241m=\u001b[39m \u001b[43mutils\u001b[49m\u001b[38;5;241;43m.\u001b[39;49m\u001b[43minterp_era5_to_mswep\u001b[49m\u001b[43m(\u001b[49m\u001b[43mtimestep_slice_t\u001b[49m\u001b[43m,\u001b[49m\u001b[43m \u001b[49m\u001b[43msample_mswep\u001b[49m\u001b[43m)\u001b[49m\n\u001b[0;32m     58\u001b[0m era5_rh_interp_mswep \u001b[38;5;241m=\u001b[39m utils\u001b[38;5;241m.\u001b[39minterp_era5_to_mswep(timestep_slice_rh, sample_mswep)\n\u001b[0;32m     59\u001b[0m \u001b[38;5;66;03m# get domain lats and lons (used to crop data around TC centre)\u001b[39;00m\n",
      "File \u001b[1;32m~\\Master\\PostDoc\\Projects\\Tropical cyclones\\augmented_ERA5-main\\utils\\utils.py:166\u001b[0m, in \u001b[0;36minterp_era5_to_mswep\u001b[1;34m(era5_ds, mswep_ds)\u001b[0m\n\u001b[0;32m    153\u001b[0m \u001b[38;5;250m\u001b[39m\u001b[38;5;124;03m\"\"\"Interpolate input era5 dataset to target mswep dataset (needed because\u001b[39;00m\n\u001b[0;32m    154\u001b[0m \u001b[38;5;124;03m   the two are defined on different lat/lon grids).\u001b[39;00m\n\u001b[0;32m    155\u001b[0m \n\u001b[1;32m   (...)\u001b[0m\n\u001b[0;32m    163\u001b[0m \u001b[38;5;124;03m                                       onto the input MSWEP dataset's grid.\u001b[39;00m\n\u001b[0;32m    164\u001b[0m \u001b[38;5;124;03m\"\"\"\u001b[39;00m\n\u001b[0;32m    165\u001b[0m era5_new_lons \u001b[38;5;241m=\u001b[39m uniform_lons_to_mswep(era5_ds)\n\u001b[1;32m--> 166\u001b[0m era5_interp_mswep \u001b[38;5;241m=\u001b[39m \u001b[43mera5_new_lons\u001b[49m\u001b[38;5;241;43m.\u001b[39;49m\u001b[43minterp\u001b[49m\u001b[43m(\u001b[49m\u001b[43mlongitude\u001b[49m\u001b[38;5;241;43m=\u001b[39;49m\u001b[43mmswep_ds\u001b[49m\u001b[38;5;241;43m.\u001b[39;49m\u001b[43mlon\u001b[49m\u001b[38;5;241;43m.\u001b[39;49m\u001b[43mvalues\u001b[49m\u001b[43m,\u001b[49m\n\u001b[0;32m    167\u001b[0m \u001b[43m                                         \u001b[49m\u001b[43mlatitude\u001b[49m\u001b[38;5;241;43m=\u001b[39;49m\u001b[43mmswep_ds\u001b[49m\u001b[38;5;241;43m.\u001b[39;49m\u001b[43mlat\u001b[49m\u001b[38;5;241;43m.\u001b[39;49m\u001b[43mvalues\u001b[49m\u001b[43m)\u001b[49m\n\u001b[0;32m    168\u001b[0m \u001b[38;5;28;01mreturn\u001b[39;00m era5_interp_mswep\n",
      "File \u001b[1;32m~\\anaconda3\\envs\\tensorflow2\\lib\\site-packages\\xarray\\core\\dataarray.py:1742\u001b[0m, in \u001b[0;36mDataArray.interp\u001b[1;34m(self, coords, method, assume_sorted, kwargs, **coords_kwargs)\u001b[0m\n\u001b[0;32m   1737\u001b[0m \u001b[38;5;28;01mif\u001b[39;00m \u001b[38;5;28mself\u001b[39m\u001b[38;5;241m.\u001b[39mdtype\u001b[38;5;241m.\u001b[39mkind \u001b[38;5;129;01mnot\u001b[39;00m \u001b[38;5;129;01min\u001b[39;00m \u001b[38;5;124m\"\u001b[39m\u001b[38;5;124muifc\u001b[39m\u001b[38;5;124m\"\u001b[39m:\n\u001b[0;32m   1738\u001b[0m     \u001b[38;5;28;01mraise\u001b[39;00m \u001b[38;5;167;01mTypeError\u001b[39;00m(\n\u001b[0;32m   1739\u001b[0m         \u001b[38;5;124m\"\u001b[39m\u001b[38;5;124minterp only works for a numeric type array. \u001b[39m\u001b[38;5;124m\"\u001b[39m\n\u001b[0;32m   1740\u001b[0m         \u001b[38;5;124m\"\u001b[39m\u001b[38;5;124mGiven \u001b[39m\u001b[38;5;132;01m{}\u001b[39;00m\u001b[38;5;124m.\u001b[39m\u001b[38;5;124m\"\u001b[39m\u001b[38;5;241m.\u001b[39mformat(\u001b[38;5;28mself\u001b[39m\u001b[38;5;241m.\u001b[39mdtype)\n\u001b[0;32m   1741\u001b[0m     )\n\u001b[1;32m-> 1742\u001b[0m ds \u001b[38;5;241m=\u001b[39m \u001b[38;5;28mself\u001b[39m\u001b[38;5;241m.\u001b[39m_to_temp_dataset()\u001b[38;5;241m.\u001b[39minterp(\n\u001b[0;32m   1743\u001b[0m     coords,\n\u001b[0;32m   1744\u001b[0m     method\u001b[38;5;241m=\u001b[39mmethod,\n\u001b[0;32m   1745\u001b[0m     kwargs\u001b[38;5;241m=\u001b[39mkwargs,\n\u001b[0;32m   1746\u001b[0m     assume_sorted\u001b[38;5;241m=\u001b[39massume_sorted,\n\u001b[0;32m   1747\u001b[0m     \u001b[38;5;241m*\u001b[39m\u001b[38;5;241m*\u001b[39mcoords_kwargs,\n\u001b[0;32m   1748\u001b[0m )\n\u001b[0;32m   1749\u001b[0m \u001b[38;5;28;01mreturn\u001b[39;00m \u001b[38;5;28mself\u001b[39m\u001b[38;5;241m.\u001b[39m_from_temp_dataset(ds)\n",
      "File \u001b[1;32m~\\anaconda3\\envs\\tensorflow2\\lib\\site-packages\\xarray\\core\\dataset.py:3165\u001b[0m, in \u001b[0;36mDataset.interp\u001b[1;34m(self, coords, method, assume_sorted, kwargs, method_non_numeric, **coords_kwargs)\u001b[0m\n\u001b[0;32m   3163\u001b[0m \u001b[38;5;28;01mif\u001b[39;00m method \u001b[38;5;129;01min\u001b[39;00m [\u001b[38;5;124m\"\u001b[39m\u001b[38;5;124mlinear\u001b[39m\u001b[38;5;124m\"\u001b[39m, \u001b[38;5;124m\"\u001b[39m\u001b[38;5;124mnearest\u001b[39m\u001b[38;5;124m\"\u001b[39m]:\n\u001b[0;32m   3164\u001b[0m     \u001b[38;5;28;01mfor\u001b[39;00m k, v \u001b[38;5;129;01min\u001b[39;00m validated_indexers\u001b[38;5;241m.\u001b[39mitems():\n\u001b[1;32m-> 3165\u001b[0m         obj, newidx \u001b[38;5;241m=\u001b[39m \u001b[43mmissing\u001b[49m\u001b[38;5;241;43m.\u001b[39;49m\u001b[43m_localize\u001b[49m\u001b[43m(\u001b[49m\u001b[43mobj\u001b[49m\u001b[43m,\u001b[49m\u001b[43m \u001b[49m\u001b[43m{\u001b[49m\u001b[43mk\u001b[49m\u001b[43m:\u001b[49m\u001b[43m \u001b[49m\u001b[43mv\u001b[49m\u001b[43m}\u001b[49m\u001b[43m)\u001b[49m\n\u001b[0;32m   3166\u001b[0m         validated_indexers[k] \u001b[38;5;241m=\u001b[39m newidx[k]\n\u001b[0;32m   3168\u001b[0m \u001b[38;5;66;03m# optimization: create dask coordinate arrays once per Dataset\u001b[39;00m\n\u001b[0;32m   3169\u001b[0m \u001b[38;5;66;03m# rather than once per Variable when dask.array.unify_chunks is called later\u001b[39;00m\n\u001b[0;32m   3170\u001b[0m \u001b[38;5;66;03m# GH4739\u001b[39;00m\n",
      "File \u001b[1;32m~\\anaconda3\\envs\\tensorflow2\\lib\\site-packages\\xarray\\core\\missing.py:562\u001b[0m, in \u001b[0;36m_localize\u001b[1;34m(var, indexes_coords)\u001b[0m\n\u001b[0;32m    560\u001b[0m maxval \u001b[38;5;241m=\u001b[39m np\u001b[38;5;241m.\u001b[39mnanmax(new_x\u001b[38;5;241m.\u001b[39mvalues)\n\u001b[0;32m    561\u001b[0m index \u001b[38;5;241m=\u001b[39m x\u001b[38;5;241m.\u001b[39mto_index()\n\u001b[1;32m--> 562\u001b[0m imin \u001b[38;5;241m=\u001b[39m \u001b[43mindex\u001b[49m\u001b[38;5;241;43m.\u001b[39;49m\u001b[43mget_loc\u001b[49m\u001b[43m(\u001b[49m\u001b[43mminval\u001b[49m\u001b[43m,\u001b[49m\u001b[43m \u001b[49m\u001b[43mmethod\u001b[49m\u001b[38;5;241;43m=\u001b[39;49m\u001b[38;5;124;43m\"\u001b[39;49m\u001b[38;5;124;43mnearest\u001b[39;49m\u001b[38;5;124;43m\"\u001b[39;49m\u001b[43m)\u001b[49m\n\u001b[0;32m    563\u001b[0m imax \u001b[38;5;241m=\u001b[39m index\u001b[38;5;241m.\u001b[39mget_loc(maxval, method\u001b[38;5;241m=\u001b[39m\u001b[38;5;124m\"\u001b[39m\u001b[38;5;124mnearest\u001b[39m\u001b[38;5;124m\"\u001b[39m)\n\u001b[0;32m    565\u001b[0m indexes[dim] \u001b[38;5;241m=\u001b[39m \u001b[38;5;28mslice\u001b[39m(\u001b[38;5;28mmax\u001b[39m(imin \u001b[38;5;241m-\u001b[39m \u001b[38;5;241m2\u001b[39m, \u001b[38;5;241m0\u001b[39m), imax \u001b[38;5;241m+\u001b[39m \u001b[38;5;241m2\u001b[39m)\n",
      "\u001b[1;31mTypeError\u001b[0m: Index.get_loc() got an unexpected keyword argument 'method'"
     ]
    }
   ],
   "source": [
    "import urllib.request\n",
    "import xarray as xr\n",
    "import utils\n",
    "import numpy as np\n",
    "import pandas as pd\n",
    "import os\n",
    "from tqdm import tqdm\n",
    "from urllib.error import HTTPError\n",
    "from scipy import interpolate\n",
    "import warnings\n",
    "warnings.simplefilter(action='ignore', category=FutureWarning)\n",
    "\n",
    "\n",
    "file_num = 0\n",
    "\n",
    "MODE = 'train'\n",
    "VARNAME = 't_rh'\n",
    "PATH = f'E:/ERA5_{VARNAME}_aggregated_3h'\n",
    "\n",
    "sample_mswep = xr.open_dataset('D:/sample_mswep.nc').isel(time=0)\n",
    "box_radius = utils.convert_box_radius(500, res=0.1)\n",
    "\n",
    "# only do a fraction of the df per notebook, as I run 15 notebooks in parallel to accelerate the process\n",
    "df = pd.read_csv(f'../data/{MODE}_2001_all/ibtracs_2001_{MODE}.csv')\n",
    "step = int(np.floor(len(df) / 15)) # 15 is the number of notebooks in parellel I run\n",
    "start = step * file_num \n",
    "end = step * (file_num + 1)\n",
    "df = df[start:end]\n",
    "\n",
    "\n",
    "new_df_as_list = []\n",
    "done = 0\n",
    "nans_found = 0\n",
    "timesteps_not_found = 0 # num of files not found because the timestep was not a multiple of 3h\n",
    "had_inf_bias = 0 # num of files that had infinite bias between ERA5 and MSWEP, likely because the TC was misplaced/absent in ERA5\n",
    "wrong_shapes = 0 # num of files that had the wrong shape, likely because they were too close to lon=180\n",
    "was_empty_era5 = 0 # num of files that had no rainfall\n",
    "was_empty_mswep = 0 # num of files that had no rainfall\n",
    "for idx, row in tqdm(df.iterrows(), total=df.shape[0]):\n",
    "    TC_lat = row.LAT\n",
    "    TC_lon = row.LON\n",
    "    if TC_lon > 179.9:\n",
    "        TC_lon -= 360\n",
    "    TC_wind = row.WMO_WIND\n",
    "    idx = row.IDX_TRUE\n",
    "    iso_time = utils.add_to_iso_time(row.ISO_TIME, hours_delta=1, minutes_delta=30)\n",
    "    year, month, day, hour = utils.convert_iso_time_3h(iso_time)\n",
    "    \n",
    "    with xr.open_dataset(f'{PATH}/ERA5_{VARNAME}_{year}_{month}.nc') as era5_ds:\n",
    "        # select current timestep in ERA5\n",
    "        try:\n",
    "            timestep_slice_t = utils.slice_ds_timestep(era5_ds, iso_time, 't')\n",
    "            timestep_slice_rh = utils.slice_ds_timestep(era5_ds, iso_time, 'r')\n",
    "        except IndexError:\n",
    "            timesteps_not_found += 1\n",
    "            continue\n",
    "        era5_t_interp_mswep = utils.interp_era5_to_mswep(timestep_slice_t, sample_mswep)\n",
    "        era5_rh_interp_mswep = utils.interp_era5_to_mswep(timestep_slice_rh, sample_mswep)\n",
    "        # get domain lats and lons (used to crop data around TC centre)\n",
    "        domain_lats = era5_t_interp_mswep['latitude'].values\n",
    "        domain_lons = era5_t_interp_mswep['longitude'].values\n",
    "        # find the id inside of domain_lats/domain_lons that corresponds to the TC centre\n",
    "        TC_lat_id = utils.find_id(TC_lat, domain_lats)\n",
    "        TC_lon_id = utils.find_id(TC_lon, domain_lons)\n",
    "        # box ERA5 around IBTrACS TC centre\n",
    "        boxed_era5_t = utils.box_var(era5_t_interp_mswep, TC_lat_id, TC_lon_id, box_radius, domain_lats, domain_lons, idx)\n",
    "        boxed_era5_rh = utils.box_var(era5_rh_interp_mswep, TC_lat_id, TC_lon_id, box_radius, domain_lats, domain_lons, idx)\n",
    "        if np.isnan(boxed_era5_t).any() or np.isnan(boxed_era5_rh).any():\n",
    "            boxed_era5_t = boxed_era5_t.fillna(0)\n",
    "            boxed_era5_rh = boxed_era5_t.fillna(0)\n",
    "\n",
    "    # save ERA5 and MSWEP snapshots\n",
    "    #boxed_era5_t.to_netcdf(f'data/{MODE}_2001/ERA5_t/ERA5_t_cropped_{idx}.nc')\n",
    "    #boxed_era5_rh.to_netcdf(f'data/{MODE}_2001/ERA5_rh/ERA5_rh_cropped_{idx}.nc')\n",
    "    # update count of saved files\n",
    "    done +=1"
   ]
  },
  {
   "cell_type": "code",
   "execution_count": 10,
   "id": "df9d6fff",
   "metadata": {},
   "outputs": [
    {
     "data": {
      "text/plain": [
       "0"
      ]
     },
     "execution_count": 10,
     "metadata": {},
     "output_type": "execute_result"
    }
   ],
   "source": [
    "timesteps_not_found"
   ]
  },
  {
   "cell_type": "code",
   "execution_count": null,
   "id": "6920a461",
   "metadata": {},
   "outputs": [],
   "source": []
  }
 ],
 "metadata": {
  "kernelspec": {
   "display_name": "Python 3 (ipykernel)",
   "language": "python",
   "name": "python3"
  },
  "language_info": {
   "codemirror_mode": {
    "name": "ipython",
    "version": 3
   },
   "file_extension": ".py",
   "mimetype": "text/x-python",
   "name": "python",
   "nbconvert_exporter": "python",
   "pygments_lexer": "ipython3",
   "version": "3.10.13"
  }
 },
 "nbformat": 4,
 "nbformat_minor": 5
}
