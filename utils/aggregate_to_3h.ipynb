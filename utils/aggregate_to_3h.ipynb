{
 "cells": [
  {
   "cell_type": "code",
   "execution_count": 3,
   "id": "c3fc3cb3",
   "metadata": {},
   "outputs": [],
   "source": [
    "import os\n",
    "import xarray as xr\n",
    "import numpy as np\n",
    "import glob\n",
    "import tqdm\n",
    "\n",
    "era5_1h_path = 'E:/feb'\n",
    "era5_3h_path = 'E:/ERA5_t_rh_aggregated_3h'\n",
    "filenames = glob.glob(os.path.join(era5_1h_path, \"*.nc\"))\n",
    "\n",
    "\n",
    "files = []\n",
    "for filename in filenames:\n",
    "    with xr.open_dataset(filename) as ds:\n",
    "        time = str(ds.time[0].data)\n",
    "        year = time[:4]\n",
    "        month = time[5:7].zfill(2)\n",
    "        ds = ds.resample(indexer=dict(time='3H')).sum('time', skipna=False)\n",
    "        ds.to_netcdf(f'{era5_3h_path}/ERA5_t_rh_{year}_{month}.nc')\n",
    "    #os.remove(filename)"
   ]
  },
  {
   "cell_type": "code",
   "execution_count": null,
   "id": "a9effad9",
   "metadata": {},
   "outputs": [],
   "source": []
  }
 ],
 "metadata": {
  "kernelspec": {
   "display_name": "Python 3 (ipykernel)",
   "language": "python",
   "name": "python3"
  },
  "language_info": {
   "codemirror_mode": {
    "name": "ipython",
    "version": 3
   },
   "file_extension": ".py",
   "mimetype": "text/x-python",
   "name": "python",
   "nbconvert_exporter": "python",
   "pygments_lexer": "ipython3",
   "version": "3.10.13"
  }
 },
 "nbformat": 4,
 "nbformat_minor": 5
}
