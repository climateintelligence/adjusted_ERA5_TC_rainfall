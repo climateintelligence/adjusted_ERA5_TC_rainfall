{
 "cells": [
  {
   "cell_type": "code",
   "execution_count": 1,
   "id": "0ce6dc4a",
   "metadata": {},
   "outputs": [
    {
     "name": "stderr",
     "output_type": "stream",
     "text": [
      "C:\\Users\\guido\\AppData\\Local\\Temp\\ipykernel_42164\\272172574.py:6: DtypeWarning: Columns (14,15) have mixed types. Specify dtype option on import or set low_memory=False.\n",
      "  ibtracs = pd.read_csv('IBTrACS/ibtracs.1980-2020.large.final.csv')\n",
      "100%|██████████| 4321/4321 [01:20<00:00, 53.88it/s]\n"
     ]
    }
   ],
   "source": [
    "import numpy as np\n",
    "import pandas as pd\n",
    "import xarray as xr\n",
    "from tqdm import tqdm\n",
    "\n",
    "ibtracs = pd.read_csv('IBTrACS/ibtracs.1980-2020.large.final.csv')\n",
    "ibtracs.head()\n",
    "ibtracs_filtered = pd.DataFrame(columns=ibtracs.columns.to_list())\n",
    "\n",
    "sids = set(ibtracs.SID)\n",
    "\n",
    "for sid in tqdm(sids, total=len(sids)):\n",
    "    current_tc = ibtracs.loc[ibtracs['SID'] ==sid]\n",
    "    try:\n",
    "        if int(current_tc['WMO_WIND'].max()) > 34:\n",
    "            ibtracs_filtered = [ibtracs_filtered, current_tc]\n",
    "            ibtracs_filtered = pd.concat(ibtracs_filtered)\n",
    "    except ValueError:\n",
    "        pass\n",
    "ibtracs_filtered.sort_values('IDX').to_csv(f'IBTrACS/ibtracs.1980-2020.34_knots_once.csv', index=False)"
   ]
  },
  {
   "cell_type": "code",
   "execution_count": null,
   "id": "637f54ce",
   "metadata": {},
   "outputs": [],
   "source": []
  }
 ],
 "metadata": {
  "kernelspec": {
   "display_name": "Python 3 (ipykernel)",
   "language": "python",
   "name": "python3"
  },
  "language_info": {
   "codemirror_mode": {
    "name": "ipython",
    "version": 3
   },
   "file_extension": ".py",
   "mimetype": "text/x-python",
   "name": "python",
   "nbconvert_exporter": "python",
   "pygments_lexer": "ipython3",
   "version": "3.9.13"
  }
 },
 "nbformat": 4,
 "nbformat_minor": 5
}
